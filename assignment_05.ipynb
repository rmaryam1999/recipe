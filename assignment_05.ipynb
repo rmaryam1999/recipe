{
 "cells": [
  {
   "cell_type": "code",
   "execution_count": 1,
   "id": "47a775d3",
   "metadata": {
    "deletable": false,
    "editable": false
   },
   "outputs": [],
   "source": [
    "# Initialize Otter\n",
    "import otter\n",
    "grader = otter.Notebook(\"assignment_05.ipynb\")"
   ]
  },
  {
   "cell_type": "markdown",
   "id": "1f11a28a",
   "metadata": {},
   "source": [
    "# Working with Branches & Forking"
   ]
  },
  {
   "cell_type": "markdown",
   "id": "2f058734",
   "metadata": {},
   "source": [
    "<!-- BEGIN QUESTION -->\n",
    "\n",
    "<div class=\"alert alert-info\">\n",
    "\n",
    "## Submission instructions\n",
    "\n",
    "<p>You receive marks for submitting your lab correctly, please follow these instructions:</p>\n",
    "\n",
    "<ul>\n",
    "  <!-- <li>Make at least three commits.</li>-->\n",
    "  <li>Export to HTML via <code>File -> Save and export notebook as... -> HTML</code> and upload the HTML file to Canvas.</li>\n",
    "    <ul>\n",
    "      <li>Before submitting, make sure you restart the kernel and rerun all cells.</li>\n",
    "    </ul>\n",
    "  <li>Don't change any variable names that are given to you, don't move cells around, and don't include any code to install packages in the notebook.</li>\n",
    "  </li>\n",
    "</ul>\n",
    "</div>\n",
    "\n",
    "_Points:_ 1"
   ]
  },
  {
   "cell_type": "markdown",
   "id": "697ffb77",
   "metadata": {},
   "source": [
    "<!-- END QUESTION -->\n",
    "\n",
    "## Recap\n",
    "\n",
    "In the past, we created `recipe` in Github.com and cloned (`git clone`) it to local PC.  If you recall, when you were typing `git status` into your terminal, the first line was always something like that `On branch main` and `Your branch is up to date with 'origin/main'`. So now, let's explore what it means in a bit more details.\n",
    "\n",
    "Up until now our repository had only one branch (with default name`main`) with several commits coming after the other:\n",
    "\n",
    "- `main` is typically the **default branch** name in git, and it represents the main development line of the repository. When you create a new repository, git will usually create a `main` branch by default. You can think of `main` as the local branch on your machine that you are currently working on. Please note that Github changed the `master` to be `main` recently as part of the company's effort to remove unnecessary references to slavery and replace them with more inclusive terms. Since this change is quite recent, you may notice that many reference materials/tutorials/website may still refer to this branch as `master`.\n",
    "\n",
    "- `origin/main` is a branch that exists on the **remote** repository, also known as the **upstream** repository. When you clone a repository, you create a copy of the entire repository on your local machine. The `main` branch on your local machine reflects the `origin/main` branch on the remote repository. When you push changes from your local `main` branch to the remote repository, they will be added to the `origin/main` branch.\n",
    "\n",
    "- `HEAD` is just a reference to the default branch in the repository. This can change if the default branch is renamed or deleted. If you are tracking the remote repository, then your local `HEAD` branch will point to `origin/HEAD`.\n",
    "\n",
    "If you go to your local `recipe` folder from previous assignment and type `git log --oneline` you will see the following line at the 1st line:\n",
    "\n",
    "`(HEAD -> main, origin/main, origin/HEAD)`\n",
    "\n",
    "What does this line mean? It shows the relationships between the different branches and the `HEAD` pointer is a reference to the currently checked out branch or commit. It essentially tells git which branch or commit you are currently working on in your local or remote repository. The arrow symbol (`->`) is used to indicate that the `HEAD` pointer is pointing to the `main` branch. The `main` branch is the local branch you are currently working on. The comma-separated list of branches following the arrow represent the corresponding branches on the remote repository:\n",
    "\n",
    "- `origin/main` is the name of the branch on the remote repository that corresponds to the `main` branch on your local repository.\n",
    "- `origin/HEAD` is a reference to the default branch on the remote repository.\n",
    "\n",
    "This line essentially shows you that the `HEAD` pointer is currently pointing to the main branch in your local repository, and that the `main` branch on your local repository corresponds to the `origin/main` branch on the remote repository. It also shows that `origin/HEAD` is being tracked by your local `HEAD` branch."
   ]
  },
  {
   "cell_type": "markdown",
   "id": "98e68516",
   "metadata": {
    "lines_to_next_cell": 0
   },
   "source": [
    "<div class=\"alert alert-info\">\n",
    "    \n",
    "### Question 0\n",
    "    \n",
    "Imagine that a person is working on their git folder and check the output of the `git log --oneline`: \n",
    "    \n",
    "```\n",
    "a6f3f6d (HEAD -> feature, origin/feature) Add new feature\n",
    "e5d2c1a Fix bug in existing feature\n",
    "b3f1e2d Update documentation\n",
    "f8c7a9e (origin/main) Initial commit\n",
    "```\n",
    "    \n",
    "Which of the following sentences are TRUE?\n",
    "\n",
    "A) The HEAD is pointing to the `feature` branch  \n",
    "B) Three commits were done on `main` branch and one on `feature` branch  \n",
    "C) One commit was done on `main` branch and one on `feature` branch  \n",
    "D) The changes that were done on local `feature` branch is pushed to `origin/feature` remote branch  \n",
    "E) The changes that were done on local `feature` branch is pushed to `origin/main` remote branch    \n",
    "</div>\n",
    "\n",
    "_Points:_ 1"
   ]
  },
  {
   "cell_type": "code",
   "execution_count": 2,
   "id": "56993dde",
   "metadata": {
    "tags": []
   },
   "outputs": [],
   "source": [
    "# Your answer should be a string with all the letters of the options you think are correct, e.g. 'AB'\n",
    "q0 = 'ABD'"
   ]
  },
  {
   "cell_type": "code",
   "execution_count": 3,
   "id": "ec294e6c",
   "metadata": {
    "deletable": false,
    "editable": false
   },
   "outputs": [
    {
     "data": {
      "text/html": [
       "<p><strong><pre style='display: inline;'>q0</pre></strong> passed! 🙌</p>"
      ],
      "text/plain": [
       "q0 results: All test cases passed!"
      ]
     },
     "execution_count": 3,
     "metadata": {},
     "output_type": "execute_result"
    }
   ],
   "source": [
    "grader.check(\"q0\")"
   ]
  },
  {
   "cell_type": "markdown",
   "id": "4b71eaad",
   "metadata": {},
   "source": [
    "## Creating a local branch\n",
    "\n",
    "In simple terms, we use git branches to work on different features or changes to a project without affecting the main codebase or other people's work.Imagine that you're working on a \"shark\" project with several other people. You all want to try different variations of the \"shark\", add new features, and make changes. \n",
    "\n",
    "<img src=\"images/Picture2.png\" width=70% >\n",
    "\n",
    "If everyone worked on the same project at the same time, it could get confusing and difficult to keep track of who did what. It could also be risky if someone accidentally breaks the main code or deletes important work.That's where Git **branches** come in. When you create a new branch in Git (e.g. one called `shark`), your branch will not see any new changes made to the `main` branch; it will only be aware of the git history up until the point that it diverged from the `main` branch in the repository. This means that you can make changes, test new features, and experiment with new variations of the recipe on this branch without affecting the main codebase. Once you're satisfied with your changes and want to share them with others, you can merge your branch back into the main codebase. Git helps to track changes, resolve conflicts, and ensure that everyone's work is organized and synchronized.\n",
    "\n",
    "----\n",
    "\n",
    "**Step 1.** So let's create a new branch in our local `recipe` project to work on some feature improvements. Below is how our work will look like schematically:\n",
    "\n",
    "<img src=\"images/Picture3.png\" width=70% >\n",
    "\n",
    "\n",
    "Let's crate a new branch called `fancy_readme`. If all worked, you will see a message in a terminal `Switched to a new branch 'fancy_readme'`.\n",
    "\n",
    "<details><summary><b>Hint:</b></summary>\n",
    "    \n",
    "You can create a new branch by typing `git switch -c fancy_readme` in a terminal\n",
    "    \n",
    "</details>\n",
    "\n"
   ]
  },
  {
   "cell_type": "markdown",
   "id": "7dd3b54e",
   "metadata": {},
   "source": [
    "<div class=\"alert alert-info\">\n",
    "    \n",
    "### Question 1\n",
    "\n",
    "Check the output of `git log --oneline` do you see any differences between the git history on `main` versus `fancy_readme` branches?\n",
    "    \n",
    "<details><summary><b>Hint:</b></summary>\n",
    "    \n",
    "You can use <code> git switch branch_name </code> command to switch between branches and checking the history in each branch \n",
    "    \n",
    "</details>\n",
    "<br>\n",
    "\n",
    "A) `HEAD -> main, origin/main, origin/HEAD` changed to `HEAD -> fancy_readme, origin/main, origin/HEAD, main` when switching to `fancy_readme` branch   \n",
    "B) all changes that were done on main branch is \"checked out\" into `fancy_readme` branch  \n",
    "C) no changes been made, the output looks identical  \n",
    "D) when we switch to `fancy_readme` branch, the git history is clear since no new commits have been made on a new branch \n",
    "\n",
    "</div>\n",
    "\n",
    "_Points:_ 1"
   ]
  },
  {
   "cell_type": "code",
   "execution_count": null,
   "id": "2e9f27ec",
   "metadata": {
    "tags": []
   },
   "outputs": [],
   "source": [
    "# Your answer should be a string with all the letters of the options you think are correct, e.g. 'AB'\n",
    "q1 = ..."
   ]
  },
  {
   "cell_type": "code",
   "execution_count": null,
   "id": "81905032",
   "metadata": {
    "deletable": false,
    "editable": false
   },
   "outputs": [],
   "source": [
    "grader.check(\"q1\")"
   ]
  },
  {
   "cell_type": "markdown",
   "id": "48ab15e0",
   "metadata": {},
   "source": [
    "----\n",
    "\n",
    "**Step 2.**  Let's work on making our `README.md` file more fancy! Using the following guide to [basic markdown syntax](https://www.markdownguide.org/basic-syntax) (https://www.markdownguide.org/basic-syntax) do the following changes and make sure you make a **separate commit message for each of your changes**:\n",
    "\n",
    "<details><summary><b>Hint:</b></summary>\n",
    "\n",
    "You can use JupyterLab IDE to edit the `.md file`.\n",
    "    \n",
    "To make separate commit message means that after you complete each item in a list, stage and commit the changes providing a comprehensive commit message about the change \n",
    "    \n",
    "</details>\n",
    "\n",
    "1. Create level 1 and level 3 headers\n",
    "2. Create ordered or unordered list\n",
    "3. Make some words or sentences **bold** or *italicized*\n",
    "4. Include the `recipe.png` or `recipe.jpg` into README.md\n",
    "\n",
    "To preview the file in Jupyter IDE, right click on a file name, then select `Open With` in a menu and the select `Markdown Preview`. Please make sure that all the changes that you made are displayed as intended. \n",
    "\n",
    "<details><summary><b>Hint:</b></summary>\n",
    "\n",
    "<img src=\"images/Picture4.png\" width=80% > \n",
    "    \n",
    "</details>\n",
    "\n",
    "Once you done, make sure you don't have any unsaved changes. **DON'T push** anything to remote yet.\n",
    "\n"
   ]
  },
  {
   "cell_type": "markdown",
   "id": "4cb32dbc",
   "metadata": {},
   "source": [
    "----\n",
    "\n",
    "**Step 3.** \n",
    "So now we want to sync our local and remote repos! We usually use `git push` to send local changes to the remote. If you try it now, you will see that git wont push them, giving you the error: `fatal: The current branch fancy_readme has no upstream branch`. This error message  typically occurs when you try to push changes to a remote branch that your local branch is not tracking ( in our case there is no remote `fancy_readme` branch!). So git doesn't know where to push the changes because it doesn't have a remote branch to compare with the local branch.\n",
    "\n",
    "To fix this error, you need to set up the tracking branch for your local branch. You can do this by running the following command:\n",
    "`git push --set-upstream origin fancy_readme`. You will see that your git history now shows something similar to:\n",
    "\n",
    "\n",
    "<img src=\"images/Picture7.png\" width=50% >\n",
    "\n",
    "\n",
    "After setting up the tracking branch, push your changes to the remote branch (you will no longer see the \"no upstream branch\" error). Schematically we can represent all our work we done so far in the following diagram:\n",
    "\n",
    "<img src=\"images/Picture5.png\" width=80% >\n",
    "\n",
    "You can view your history using ` git log --all --graph --decorate --oneline` command in the terminal or using the History tab in Jupyter Lab."
   ]
  },
  {
   "cell_type": "markdown",
   "id": "c955822f",
   "metadata": {},
   "source": [
    "<div class=\"alert alert-info\">\n",
    "    \n",
    "### Question 2\n",
    "    \n",
    "Based on the output of `git log --all --graph --decorate --oneline` for a git repository:\n",
    "\n",
    "```\n",
    "* 8340b35 (HEAD -> test, origin/test) Add images to README\n",
    "* 66b2f01 Update ingredients list\n",
    "| * c1c9845 (main) Add recipe instructions to README\n",
    "| * 2d70c8f Update README file\n",
    "|/  \n",
    "* 7e3c31d Initial commit\n",
    "```\n",
    "\n",
    "Which of the following statements are TRUE?\n",
    "\n",
    "A) There are 2 branches: `main` branch and a `test` branch   \n",
    "B) 2 commits were made on the `main` branch and 3 commits were made on the `test` branch  \n",
    "C) changes on the `test` branch were pushed to the remote repository  \n",
    "D) changes on the `main` branch were pushed to the remote repository,  \n",
    "E) The `HEAD` pointer is pointing to the `test` branch.  \n",
    "F) The changes on the `test` branch have been merged into the `main` branch  \n",
    "    \n",
    "</div>\n",
    "\n",
    "_Points:_ 1"
   ]
  },
  {
   "cell_type": "code",
   "execution_count": null,
   "id": "f205c5da",
   "metadata": {
    "tags": []
   },
   "outputs": [],
   "source": [
    "# Your answer should be a string with all the letters of the options you think are correct, e.g. 'AB'\n",
    "q2 = ..."
   ]
  },
  {
   "cell_type": "code",
   "execution_count": null,
   "id": "38024d2b",
   "metadata": {
    "deletable": false,
    "editable": false
   },
   "outputs": [],
   "source": [
    "grader.check(\"q2\")"
   ]
  },
  {
   "cell_type": "markdown",
   "id": "253a4bb5",
   "metadata": {},
   "source": [
    "----\n",
    "\n",
    "**Step 4.** Merging the branches\n",
    "\n",
    "Once we are happy with all the changes we did to our `README.md` file, let's bring all the changes we did on `fancy_readme` branch to our local `main` branch!\n",
    "\n",
    "*Note: Usually we just delete the branch after we done working with it. So this step is just for you to practice merging branches or updating one branch with content of the other.*\n",
    "\n",
    "First, what we need to do is to switch to `main branch` using `git switch main` and then run `git merge fancy_readme`\n",
    "\n",
    "You can now see that all the changes are merged into `main branch` (you can check your `README.md` file too to make sure that all new changes are there). In the diagram below you can see both tags `main` and `fancy_readme` appearing on a same line:\n",
    "\n",
    "\n",
    "<img src=\"images/Picture8.png\" width=50% >\n",
    "\n",
    "Also note, that we are now on `main` branch ( after running `git switch` command)"
   ]
  },
  {
   "cell_type": "markdown",
   "id": "da60a308",
   "metadata": {},
   "source": [
    "## Pull Request\n",
    "\n",
    "In step 3, you have pushed the changes to your remote repository using the `git push`. However, all the new changes we did can only be seen on the `orign/fancy_readme` branch (i.e., remote `fancy_readme`) and not on our `main` branch (you can see it by checking `README` file on both branches):\n",
    "\n",
    "<img src=\"images/Picture10.png\" width=90% >    \n",
    "\n",
    "\n",
    "Recall from step 4: we had a similar situation on our local PC: where we used the`git switch` and `git merge` commands to bring the changes from our `fancy_readme` to `main` branch.  So how to do the similar task on GitHub.com? We need to open a pull request:\n",
    "\n",
    "<img src=\"images/Picture11.png\" width=80% >    \n",
    "\n",
    "-----\n",
    "\n",
    "**Step 5.** Open a pull request.\n",
    "\n",
    "Once the changes are pushed to your remote repository, go to the GitHub website and navigate to the `recipe` repository and switch to `fancy_readme` branch. \n",
    "\n",
    "<details><summary><b>Hint:</b></summary>\n",
    "<img src=\"images/Picture10.png\" width=90% >    \n",
    "</details>\n",
    "\n",
    "\n",
    "Click on the \"Contribute\" and select button \"Open pull request\".\n",
    "\n",
    "<details><summary><b>Hint:</b></summary>\n",
    "<img src=\"images/Picture12.png\" width=90% >     \n",
    "</details>\n",
    "\n",
    "Once you press \"Open pull request\" you will see the following window: \n",
    "\n",
    "<img src=\"images/Picture13.png\" width=90% >\n",
    "\n",
    "At the top (1) you can see that we are merging `fancy_readme` branch into `main`. A checkmark \"Able to merge\" tells us that there is no conflicts and all the changes can be smoothly incorporated into the `main` branch. As always any changes you do on GitHub have to be accompanied with commit message (2). Before creating pull request (3) you can also:\n",
    "\n",
    "- view your pull request (4) where you can review the changes that you made , \n",
    "- add a reviewer (5) if you work with collaborator or \n",
    "- add labels (6) - if you click on the wheel you can see a list of commonly used labels ( if you wish you can select any label that you think can be used to describe the changes we made)\n",
    "\n",
    "Once you happy with all the changes,  submit the pull request by clicking the \"Create pull request\" button (3). Your pull request will then be sent for review.\n",
    "\n",
    "In most Git workflows, pull requests are reviewed and accepted by the different person (not the one who did a pull request). These individuals are responsible for ensuring that the changes proposed in the pull request are aligned with the project goals, meet the quality standards, and do not introduce any issues or conflicts with the existing codebase.\n",
    "\n",
    "Once you create a pull request you will see a page similar to the one below:\n",
    "\n",
    "<img src=\"images/Picture14.png\" width=90% >\n",
    "\n",
    "As you can see from a page above you can accept the pull request by pressing a \"Merge pull request\" button or decline it by selecting the \"Close pull request\" option.Since you are working alone: you will be a person to approve pull request: \n",
    "\n",
    "You can go ahead and merge it! ( you will be asked to confirm a merge - you can leave the default message).\n",
    "\n",
    "After the merge is done you have an option to delete `fancy_readme` branch. For the purpose of this exercise, don't delete the branch."
   ]
  },
  {
   "cell_type": "markdown",
   "id": "e3364e51",
   "metadata": {},
   "source": [
    "<!-- BEGIN QUESTION -->\n",
    "\n",
    "<div class=\"alert alert-info\">\n",
    "    \n",
    "### Question 3\n",
    "\n",
    "Go back to the main page of your `recipe` repo: if pull request is done properly, you should be able to see the fancy version of your README file on a `main` branch. Then click on commits:\n",
    "\n",
    "<img src=\"images/Picture15.png\" width=90% >\n",
    "\n",
    "Send us a URL link to your commit history (the link should look similar to this one: https://github.com/USERNAME/recipe/commits/main)\n",
    "\n",
    "You will be marked on:\n",
    "    \n",
    "1. State of README from step 2\n",
    "2. Quality of commit messages\n",
    "3. Successfully merging branch\n",
    "\n",
    "</div>\n",
    "\n",
    "_Points:_ 3"
   ]
  },
  {
   "cell_type": "markdown",
   "id": "565c1591",
   "metadata": {},
   "source": [
    "_Type your answer here, replacing this text._"
   ]
  },
  {
   "cell_type": "markdown",
   "id": "dddc9006",
   "metadata": {},
   "source": [
    "<!-- END QUESTION -->\n",
    "\n",
    "## Forking\n",
    "\n",
    "In git, **forking** refers to making a copy of a repository on a user's GitHub account. The forked repository is a complete copy of the original repository, including all of its code, history, and branches. The forked repository is independent of the original repository and will not automatically get updates made to the original repository, so you would have to keep it in sync manually, which fortunately is straightforward to do via the GitHub interface.\n",
    "\n",
    "Forking is usually done when a user wants to contribute to a project, but they don't have the permission to create branches and make changes inside the original repository. In this case, the user can fork the repository, make changes to the forked repository, and then submit a pull request to the original repository owner to merge their changes. As an example, this is how most big open source libraries, such as pandas, jupyter etc, receives contributions from."
   ]
  },
  {
   "cell_type": "markdown",
   "id": "297e09aa",
   "metadata": {},
   "source": [
    "<div class=\"alert alert-info\">\n",
    "    \n",
    "### Question 4\n",
    "    \n",
    "Which of the following statements is true about branching and forking in git? Select one:\n",
    "\n",
    "A) Branching and forking are the same thing.  \n",
    "B) Branching does not create a copy of the repository but works off the history in the original repository, whereas forking creates a copy of the repository that is independent of the original repository.  \n",
    "C) Forking creates a new branch in the repository that can be edited independently, while branching creates a copy of the repository that is linked to the original.  \n",
    "D) Branching and forking both create a new branch in the repository that can be edited independently, but forking also creates a separate repository.    \n",
    "    \n",
    "</div>\n",
    "\n",
    "_Points:_ 1"
   ]
  },
  {
   "cell_type": "code",
   "execution_count": null,
   "id": "8604451a",
   "metadata": {
    "tags": []
   },
   "outputs": [],
   "source": [
    "# Your answer should be a string \n",
    "q4 = ..."
   ]
  },
  {
   "cell_type": "code",
   "execution_count": null,
   "id": "e5828651",
   "metadata": {
    "deletable": false,
    "editable": false
   },
   "outputs": [],
   "source": [
    "grader.check(\"q4\")"
   ]
  },
  {
   "cell_type": "markdown",
   "id": "4c8f656a",
   "metadata": {},
   "source": [
    "<!-- BEGIN QUESTION -->\n",
    "\n",
    "<div class=\"alert alert-info\">\n",
    "    \n",
    "### Question 5\n",
    "    \n",
    "Using the steps, shown in this week video, fork this repository: [https://github.com/UBC-MDS/ds-toolbox-assignment5/](https://github.com/UBC-MDS/ds-toolbox-assignment5/)\n",
    "\n",
    "**Step 1.** Clone your fork on your laptop.\n",
    "\n",
    "**Step 2.** Create a new branch called `git-status`\n",
    "\n",
    "**Step 3.** Create a new file called `git-status.md`\n",
    "\n",
    "**Step 4.** In your own words, write a brief explanation of `git status` command in the `git-status.md` file. Use the title \"Definition: git status\" on the first line in your file. Specifically, explain what the `git status` command is useful for. How can you access the same information provided by this command if you were using the JupyterLab IDE instead of the terminal?\n",
    "\n",
    "**Step 5.** Finally, save the changes, add them to the staging area, and commit and push your changes to your fork (the default push location).\n",
    "\n",
    "**Step 6.** Go to the upstream repository (`UBC-MDS/ds-toolbox-assignment5`), click on Pull requests, and then click on Open pull request in the top right to create a pull request\n",
    "\n",
    "After you completed these steps, send us a URL link to your pull request (the link should look similar to this one: `https://github.com/UBC-MDS/ds-toolbox-assignment5/pull/<NUMBER>`)\n",
    "    \n",
    "</div>\n",
    "\n",
    "_Points:_ 3"
   ]
  },
  {
   "cell_type": "markdown",
   "id": "7b947ca1",
   "metadata": {},
   "source": [
    "_Type your answer here, replacing this text._"
   ]
  },
  {
   "cell_type": "markdown",
   "id": "6e4c2253",
   "metadata": {},
   "source": [
    "<!-- END QUESTION -->\n",
    "\n",
    "<div class=\"alert alert-danger\" style=\"color:black\">\n",
    "    \n",
    "**Restart and run all before submitting**\n",
    "    \n",
    "Before submitting,\n",
    "don't forget to run all cells in your notebook\n",
    "to make sure there are no errors\n",
    "and so that the TAs can see the output of all the cells properly.\n",
    "You can do this by clicking the ▶▶ button\n",
    "or going to `Kernel -> Restart Kernel and Run All Cells...` in the menu.\n",
    "This is not only important for this course,\n",
    "but a good habit you should get into before ever committing a notebook to GitHub,\n",
    "so that your collaborators can run it from top to bottom\n",
    "without issues.\n",
    "</div>"
   ]
  },
  {
   "cell_type": "markdown",
   "id": "a5edee09",
   "metadata": {},
   "source": [
    "-----\n",
    "\n",
    "Assignment 5 completed, Congratulations! 🥳"
   ]
  },
  {
   "cell_type": "markdown",
   "id": "fcd7c3db",
   "metadata": {
    "deletable": false,
    "editable": false
   },
   "source": [
    "---\n",
    "\n",
    "To double-check your work, the cell below will rerun all of the autograder tests."
   ]
  },
  {
   "cell_type": "code",
   "execution_count": null,
   "id": "f851348c",
   "metadata": {
    "deletable": false,
    "editable": false
   },
   "outputs": [],
   "source": [
    "grader.check_all()"
   ]
  }
 ],
 "metadata": {
  "jupytext": {
   "cell_metadata_filter": "-all",
   "main_language": "git",
   "notebook_metadata_filter": "-all"
  },
  "kernelspec": {
   "display_name": "Python 3 (ipykernel)",
   "language": "python",
   "name": "python3"
  },
  "language_info": {
   "codemirror_mode": {
    "name": "ipython",
    "version": 3
   },
   "file_extension": ".py",
   "mimetype": "text/x-python",
   "name": "python",
   "nbconvert_exporter": "python",
   "pygments_lexer": "ipython3",
   "version": "3.12.3"
  },
  "otter": {
   "OK_FORMAT": true,
   "tests": {
    "q0": {
     "name": "q0",
     "points": 1,
     "suites": [
      {
       "cases": [
        {
         "code": ">>> assert 'a' in q0.lower()\n>>> assert 'b' in q0.lower()\n>>> assert 'd' in q0.lower()\n",
         "failure_message": "You are missing one of the correct answers",
         "hidden": false,
         "locked": false
        },
        {
         "code": ">>> assert 'c' not in q0.lower()\n>>> assert 'e' not in q0.lower()\n",
         "failure_message": "At least one of the options you have selected is not correct",
         "hidden": false,
         "locked": false
        }
       ],
       "scored": true,
       "setup": "",
       "teardown": "",
       "type": "doctest"
      }
     ]
    },
    "q1": {
     "name": "q1",
     "points": 1,
     "suites": [
      {
       "cases": [
        {
         "code": ">>> assert 'a' in q1.lower()\n>>> assert 'b' in q1.lower()\n",
         "failure_message": "You are missing one of the correct answers",
         "hidden": false,
         "locked": false
        },
        {
         "code": ">>> assert 'c' not in q1.lower()\n>>> assert 'd' not in q1.lower()\n",
         "failure_message": "At least one of the options you have selected is not correct",
         "hidden": false,
         "locked": false
        }
       ],
       "scored": true,
       "setup": "",
       "teardown": "",
       "type": "doctest"
      }
     ]
    },
    "q2": {
     "name": "q2",
     "points": 1,
     "suites": [
      {
       "cases": [
        {
         "code": ">>> assert 'a' in q2.lower()\n>>> assert 'c' in q2.lower()\n>>> assert 'e' in q2.lower()\n",
         "failure_message": "You are missing one of the correct answers",
         "hidden": false,
         "locked": false
        },
        {
         "code": ">>> assert 'b' not in q2.lower()\n>>> assert 'd' not in q2.lower()\n>>> assert 'f' not in q2.lower()\n",
         "failure_message": "At least one of the options you have selected is not correct",
         "hidden": false,
         "locked": false
        }
       ],
       "scored": true,
       "setup": "",
       "teardown": "",
       "type": "doctest"
      }
     ]
    },
    "q4": {
     "name": "q4",
     "points": 1,
     "suites": [
      {
       "cases": [
        {
         "code": ">>> assert 'b' == q4.lower()\n",
         "failure_message": "Try again! You answer is not correct",
         "hidden": false,
         "locked": false
        }
       ],
       "scored": true,
       "setup": "",
       "teardown": "",
       "type": "doctest"
      }
     ]
    }
   }
  }
 },
 "nbformat": 4,
 "nbformat_minor": 5
}
